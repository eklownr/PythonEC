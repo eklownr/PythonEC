{
  "cells": [
    {
      "cell_type": "markdown",
      "metadata": {
        "id": "_9Cz2MnwuZDe"
      },
      "source": [
        "## Välkommen till L16!\n",
        "\n",
        "Vi ska idag lära oss om både notebooks, men huvudsakligen numpy och Vectorization!\n",
        "\n",
        "Numpy är ett bibliotek ämnat för att optimera numeriska operationer och är använt i mer eller mindre alla former av Pythonutveckling för ML/AI/Data projekt. Många bibliotek bygger på det och är nästintill ett krav för att modeller ska prestera väl"
      ]
    },
    {
      "cell_type": "markdown",
      "metadata": {
        "id": "01Hi6rTOvYAS"
      },
      "source": [
        "## Användbara kommandon i google colab\n",
        "\n",
        "- Shift + Enter = Kör en kodcell och sätt nästa i fokus\n",
        "- Ctrl + Enter = Kör nuvarande cell\n",
        "- Ctrl + Z = backar på din kod i cell\n",
        "- Ctrl + F8  = kör alla celler\n",
        "- Ctrl + M + B = Skapa ny cell under\n",
        "- Ctrl + M + A = Skapa ny cell över\n",
        "- Ctrl + M + D = Ta bort vald cell\n",
        "- Ctrl + M + M = Gör cell till en textcell\n",
        "- Ctrl + M + Y = Gör cell till en kodcell\n",
        "\n",
        "Vi Skriver en hello world!\n",
        "\n",
        "\n"
      ]
    },
    {
      "cell_type": "code",
      "execution_count": null,
      "metadata": {
        "colab": {
          "base_uri": "https://localhost:8080/"
        },
        "id": "0BMQHhnPunww",
        "outputId": "dfb7b3eb-43d4-4a5b-e246-37986e34af32"
      },
      "outputs": [],
      "source": [
        "print(\"hello\")"
      ]
    },
    {
      "cell_type": "markdown",
      "metadata": {
        "id": "jSyrjZRg2Etw"
      },
      "source": [
        "Låt oss nu börja kika lite mer på numpy, vi importerar modulen\n"
      ]
    },
    {
      "cell_type": "code",
      "execution_count": null,
      "metadata": {
        "colab": {
          "base_uri": "https://localhost:8080/"
        },
        "id": "M512Mk3pEtCH",
        "outputId": "c68aa94a-ece7-42c6-fda6-8ef40a0a64b7"
      },
      "outputs": [],
      "source": [
        "# Vi börjar med lite packet vi behöver\n",
        "\n",
        "!pip install memory-profiler\n",
        "!pip install numpy matplotlib\n",
        "\n",
        "import matplotlib\n",
        "import numpy as np\n",
        "import sys\n",
        "import time\n",
        "\n",
        "import requests\n",
        "from io import BytesIO\n",
        "import matplotlib.pyplot as plt\n",
        "from PIL import Image\n"
      ]
    },
    {
      "cell_type": "code",
      "execution_count": null,
      "metadata": {
        "colab": {
          "base_uri": "https://localhost:8080/"
        },
        "id": "FMzcmnOqwoBE",
        "outputId": "e65ed973-389e-4a46-b728-ee0689611aa1"
      },
      "outputs": [],
      "source": [
        "arr1 = np.array([1, 2, 3, 4, 5])\n",
        "arr2 = np.zeros((3, 4), dtype=\"int64\")\n",
        "arr3 = np.ones((2, 2))\n",
        "arr4 = np.arange(0, 10, 2)\n",
        "arr5 = np.zeros(10000)\n",
        "list2 = [0] * 10000\n",
        "\n",
        "list1 = [1,2,3,4,5]\n",
        "\n",
        "print(arr1)\n",
        "print(arr2)\n",
        "print(arr3)\n",
        "print(sys.getsizeof(arr1))\n",
        "print(sys.getsizeof(list1))\n",
        "\n",
        "\n"
      ]
    },
    {
      "cell_type": "markdown",
      "metadata": {
        "id": "vgGT3Z8LEAKz"
      },
      "source": [
        "Låt oss nu kika lite på hur man kan undersöka dessa, de ser ju egentligen bara ut som vanliga listor i Python?\n",
        "\n"
      ]
    },
    {
      "cell_type": "code",
      "execution_count": null,
      "metadata": {
        "id": "Eph-bC8lEIYG"
      },
      "outputs": [],
      "source": [
        "print(arr2.dtype)\n",
        "print(arr2.size)\n",
        "print(arr2.shape)\n",
        "print(np.square(arr1))"
      ]
    },
    {
      "cell_type": "markdown",
      "metadata": {
        "id": "RuVWgFVmDc0h"
      },
      "source": [
        "## Vad gör dessa speciella utöver datatyper och optimering?\n",
        "Vektorisering och broadcasting! Två superviktiga koncept\n",
        "\n",
        "Vektorisering innebär att när man utför numeriska operationer på en array kan man göra och se detta som en matrismultiplikation snarare än att man behöver forloopa igeno varje element. Denna typ av operation är löjligt mycket snabbare än att forloopa\n",
        "\n",
        "Broadcasting är ett koncept för hur man kan multiplicera exempelvis en array med ett vanligt tal, under huven \"förlängs\" talet till att bli en matris av samma storlek som matrisen den multipliceras med, och därefter blir det egentligen matrismultiplikation\n",
        "\n",
        "Låt oss kika hur dessa koncept ser ut i kod! Vi börjar med broadcasting"
      ]
    },
    {
      "cell_type": "code",
      "execution_count": null,
      "metadata": {
        "colab": {
          "base_uri": "https://localhost:8080/"
        },
        "id": "aOEbiQfeGI2t",
        "outputId": "ba8db17b-b573-4494-ca33-9cae0509045a"
      },
      "outputs": [],
      "source": [
        "arr1 = np.arange(1, 10).reshape((3, 3))\n",
        "print(\"This is the array: \\n\", arr1)\n",
        "print(\"This is the array multiplied by 2: \\n\", arr1 * 2)\n",
        "\n",
        "arr2 = arr1 * 2\n",
        "arr3 = np.full((3, 3), 2)\n",
        "\n",
        "print(\"And with arr3: \\n\", arr1 * arr3)\n"
      ]
    },
    {
      "cell_type": "code",
      "execution_count": null,
      "metadata": {
        "colab": {
          "base_uri": "https://localhost:8080/"
        },
        "id": "qT_qmRp4H29l",
        "outputId": "90640c82-e7e1-4f6c-a414-789524b06ac1"
      },
      "outputs": [],
      "source": [
        "# Och nu till vektorisering! Vi börjar med en dålig gammal lösning:\n",
        "\n",
        "def double_elements_non_vectorized(arr):\n",
        "    result = np.zeros_like(arr)\n",
        "    for i in range(len(arr)):\n",
        "        result[i] = arr[i] * 2\n",
        "    return result\n",
        "\n",
        "arr = np.array([1, 2, 3, 4, 5])\n",
        "result_non_vectorized = double_elements_non_vectorized(arr)\n",
        "print(result_non_vectorized)\n",
        "\n",
        "# Med vektorisering:\n",
        "\n",
        "def double_elements_vectorized(arr):\n",
        "    # Notera här att broadcasting sker först, och \"vektoriseringen\" är egentligen matrismultiplikationen\n",
        "    return arr * 2\n",
        "\n",
        "result_vectorized = double_elements_vectorized(arr)\n",
        "print(result_vectorized)\n"
      ]
    },
    {
      "cell_type": "markdown",
      "metadata": {
        "id": "3879ZLmiJZny"
      },
      "source": [
        "## Vi kikar på två andra viktiga koncept: reshape och view!"
      ]
    },
    {
      "cell_type": "code",
      "execution_count": null,
      "metadata": {
        "colab": {
          "base_uri": "https://localhost:8080/"
        },
        "id": "LI2hdvR5JfDQ",
        "outputId": "63fb45e7-d807-4a89-d201-2535bd9e68db"
      },
      "outputs": [],
      "source": [
        "# Vi skapar en endimensionell array vi sedan reshapar\n",
        "arr = np.arange(12)\n",
        "\n",
        "reshaped_arr = arr.reshape((3, 4))\n",
        "\n",
        "print(\"Original array:\")\n",
        "print(arr)\n",
        "print(\"\\nReshaped array:\")\n",
        "print(reshaped_arr)\n",
        "\n",
        "# Use view to create a 3x4 matrix\n",
        "view_arr = arr.view()\n",
        "\n",
        "view_arr[0] = 99\n",
        "\n",
        "print(\"Original array:\")\n",
        "print(arr)\n",
        "print(\"\\nView array:\")\n",
        "print(view_arr)"
      ]
    },
    {
      "cell_type": "markdown",
      "metadata": {
        "id": "6dlhc4VHRZOJ"
      },
      "source": [
        "# Övningar, Del 1: Basic Numpy:\n",
        "\n",
        "1. Skapa en 3x3 matris med randomiserade heltalsvärden mellan 1 till 10, sätt dtype till int32\n",
        "2. Printa Shape, datatype och storlek på matrisen\n",
        "3. Utför elementvis multiplikation med 2 på ursprungsmatrisen\n",
        "4. Beräkna medelvärdet på hela matrisen\n",
        "5. Addera matrisen du multiplicera med två med en annan matris som också randomiserats med heltalsvärden mellan 1 till 10"
      ]
    },
    {
      "cell_type": "code",
      "execution_count": null,
      "metadata": {
        "colab": {
          "base_uri": "https://localhost:8080/",
          "height": 36
        },
        "id": "pytJ5xeAS9oA",
        "outputId": "8710e000-b11a-4800-a47c-49c2b79aad05"
      },
      "outputs": [],
      "source": [
        "import numpy as np\n",
        "np.random.seed(1337)\n",
        "\n",
        "# Skriv din kod här nedan och kör blocket!!\n"
      ]
    },
    {
      "cell_type": "markdown",
      "metadata": {
        "id": "WFzDxNlTUbdv"
      },
      "source": [
        "### Förväntat resultat i steg 5:\n",
        "\n",
        "\n",
        "\n",
        "\n",
        "```\n",
        "[[26 25 23]\n",
        " [28 25  8]\n",
        " [13 17 21]]\n",
        "```\n",
        "\n",
        "\n"
      ]
    },
    {
      "cell_type": "markdown",
      "metadata": {
        "id": "H--lCAdMug_A"
      },
      "source": [
        "# Övningar, Del 2:\n",
        "\n",
        "I denna övning ska vi kika lite på bilder i Numpy tillsammans med det populära visualiseringsbiblioteket MatPlotlib! Du får lite färdig kod för att hämta en bild nedan, innan du börjar med uppgifterna se till att du är bekväm med den existerande koden! Prova byta till en bild du själv gillar. Alternativt så gillar du min bild kör på för all del! Utför sedan följande övningar:\n",
        "\n",
        "1. Printa shape och dtype på din bild\n",
        "2. Ta en funderar på vad shapen egentligen innebär, varför varför är det en array med tre dimensioner?\n",
        "3. Hur plockar man ut en specifik pixel och får dess färg?\n",
        "4. Sätt alla pixlar på högra sidan av bilden till grön (Skriv en forloop som går igenom var rad för sig, sedan var kolumn, och ändrar sedan dess pixelbärde)\n",
        "\n",
        "### Vektorisering\n",
        "5. Hur kan jag med en vektoriserad operation välja hälften av alla pixlar? (tips: när man väljer ut en pixel är det enkelt att växla upp och välja alla pixlar på samma rad exempelvis, man kan då säga något i stil med :height/2 exempelvis. Tänk här att du vill skapa en ny array som egentligen innehåller bara hälften av de värden som finns i originalet, och där skriver du över det gamla!)\n",
        "6. Sätt den vänstra hälften av din bilds pixlar till röd\n",
        "7. Plotta om den och se att det funkar\n",
        "\n"
      ]
    },
    {
      "cell_type": "code",
      "execution_count": null,
      "metadata": {
        "colab": {
          "base_uri": "https://localhost:8080/",
          "height": 435
        },
        "id": "o36Mag3YRea4",
        "outputId": "fdf8415f-b0c2-427a-e7b6-78ca85974680"
      },
      "outputs": [],
      "source": [
        "\n",
        "# Länk till bilden\n",
        "image_url = 'https://images.unsplash.com/photo-1615751072497-5f5169febe17?q=80&w=1000&auto=format&fit=crop&ixlib=rb-4.0.3&ixid=M3wxMjA3fDB8MHxzZWFyY2h8Mnx8Y3V0ZSUyMGRvZ3xlbnwwfHwwfHx8MA%3D%3D'\n",
        "\n",
        "# Hämta bilden\n",
        "response = requests.get(image_url)\n",
        "image_content = response.content\n",
        "\n",
        "# Gör bilden läsbar med bytesio och Image.open\n",
        "image = Image.open(BytesIO(image_content))\n",
        "image_array = np.array(image)\n",
        "\n",
        "# Visa bilden:\n",
        "plt.imshow(image_array)\n",
        "plt.show()\n",
        "\n",
        "# Skriv din kod härefter!"
      ]
    },
    {
      "cell_type": "markdown",
      "metadata": {
        "id": "ID-nQc8bXW7e"
      },
      "source": [
        "# Frågor att googla eller tänka på:\n",
        "\n",
        "- Vad är egentligen vektorisering?\n",
        "- Hur fungerar broadcasting? Varför tillåter det oss att multiplicera en array så lätt som array * 2\n",
        "- Varför är detta så effektivt i jämförelse med en lista och traditionell forloop?\n",
        "\n",
        "### Det var allt på ämnet om numpy för nu! Det kommer säkerligen lyftas lite igen och jag uppmuntrar er starkt till att göra er lite mer bekväma med både notebooks och numpy då det är otroligt bra verktyg att ha tillhands. Hoppas det känts lärorikt!\n",
        "\n"
      ]
    }
  ],
  "metadata": {
    "colab": {
      "provenance": []
    },
    "kernelspec": {
      "display_name": "Python 3",
      "name": "python3"
    },
    "language_info": {
      "codemirror_mode": {
        "name": "ipython",
        "version": 3
      },
      "file_extension": ".py",
      "mimetype": "text/x-python",
      "name": "python",
      "nbconvert_exporter": "python",
      "pygments_lexer": "ipython3",
      "version": "3.12.0"
    }
  },
  "nbformat": 4,
  "nbformat_minor": 0
}
